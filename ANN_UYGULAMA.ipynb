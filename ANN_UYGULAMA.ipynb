{
  "nbformat": 4,
  "nbformat_minor": 0,
  "metadata": {
    "colab": {
      "provenance": [],
      "authorship_tag": "ABX9TyNLajfr/CSESyav305S/HTH",
      "include_colab_link": true
    },
    "kernelspec": {
      "name": "python3",
      "display_name": "Python 3"
    },
    "language_info": {
      "name": "python"
    }
  },
  "cells": [
    {
      "cell_type": "markdown",
      "metadata": {
        "id": "view-in-github",
        "colab_type": "text"
      },
      "source": [
        "<a href=\"https://colab.research.google.com/github/yusuf1489/YSF/blob/master/ANN_UYGULAMA.ipynb\" target=\"_parent\"><img src=\"https://colab.research.google.com/assets/colab-badge.svg\" alt=\"Open In Colab\"/></a>"
      ]
    },
    {
      "cell_type": "code",
      "execution_count": 1,
      "metadata": {
        "colab": {
          "base_uri": "https://localhost:8080/"
        },
        "id": "nzp_JoCehjw7",
        "outputId": "09ded1ff-8d5b-4105-d5a0-887301107ed7"
      },
      "outputs": [
        {
          "output_type": "stream",
          "name": "stdout",
          "text": [
            "hello\n"
          ]
        }
      ],
      "source": [
        "print(\"hello\")"
      ]
    },
    {
      "cell_type": "markdown",
      "source": [
        "# YAPAY SİNİR AĞLARI (ANN) ile Rakam Tanıma\n",
        "\n",
        "1.  İş Problemi (Business Problem)\n",
        "2.  Veriyi Anlamak (Data Understanding)\n",
        "3.  Veriyi Hazırlamak (Data Preparation)\n",
        "4.  Modelleme (Modeling)\n",
        "5.  Değerlendirme (Evaluation)\n",
        "\n"
      ],
      "metadata": {
        "id": "qJMGqhA_iOJq"
      }
    },
    {
      "cell_type": "markdown",
      "source": [
        "# 1) İş Problemi (Business Problem)\n",
        "\n",
        "Problem : İnsan gücü kaynağını daha verimli kullanabilir miyiz?\n"
      ],
      "metadata": {
        "id": "37L867hFlfRb"
      }
    },
    {
      "cell_type": "markdown",
      "source": [
        "# 2) Veriyi Anlamak (Data Understanding)\n",
        "\n"
      ],
      "metadata": {
        "id": "jALY88rAvbwf"
      }
    },
    {
      "cell_type": "code",
      "source": [
        "pip install tensorflow"
      ],
      "metadata": {
        "id": "ITWP7Jg_jwoa"
      },
      "execution_count": null,
      "outputs": []
    },
    {
      "cell_type": "code",
      "source": [],
      "metadata": {
        "id": "3LJebTSPvzGm"
      },
      "execution_count": null,
      "outputs": []
    },
    {
      "cell_type": "code",
      "source": [
        "# Gerekli Kütüphanelerin Import İşlemleri\n",
        "\n",
        "# pip install tensorflow\n",
        "\n",
        "import tensorflow as tf\n",
        "from tensorflow.keras.datasets import mnist\n",
        "from tensorflow.keras.models import load_model, Sequential\n",
        "from tensorflow.keras.layers import Dense, Flatten\n",
        "from tensorflow.keras.utils import to_categorical, plot_model\n",
        "\n",
        "import matplotlib.pyplot as plt\n",
        "import numpy as np\n"
      ],
      "metadata": {
        "id": "t0enG-FivzOw"
      },
      "execution_count": 6,
      "outputs": []
    },
    {
      "cell_type": "code",
      "source": [
        "\n",
        "# Mnıst Veri Setinin Yüklenmesi\n",
        "(x_train, y_train), (x_test, y_test) = mnist.load_data()\n"
      ],
      "metadata": {
        "colab": {
          "base_uri": "https://localhost:8080/"
        },
        "id": "Cb2SD5JUxPYH",
        "outputId": "54d9e5fc-18fa-4beb-e164-be9c7412167f"
      },
      "execution_count": 7,
      "outputs": [
        {
          "output_type": "stream",
          "name": "stdout",
          "text": [
            "Downloading data from https://storage.googleapis.com/tensorflow/tf-keras-datasets/mnist.npz\n",
            "11490434/11490434 [==============================] - 1s 0us/step\n"
          ]
        }
      ]
    },
    {
      "cell_type": "code",
      "source": [
        "print(\"Eğitim Seti Boyutu : \", x_train.shape, y_train.shape)"
      ],
      "metadata": {
        "colab": {
          "base_uri": "https://localhost:8080/"
        },
        "id": "VtiJs_mJxTYm",
        "outputId": "079f5cca-2d21-4989-a4f9-66a5965415fd"
      },
      "execution_count": 10,
      "outputs": [
        {
          "output_type": "stream",
          "name": "stdout",
          "text": [
            "Eğitim Seti Boyutu :  (60000, 28, 28) (60000,)\n"
          ]
        }
      ]
    },
    {
      "cell_type": "code",
      "source": [
        "print(\"Test Seti Boyutu : \", x_test.shape, y_test.shape)"
      ],
      "metadata": {
        "colab": {
          "base_uri": "https://localhost:8080/"
        },
        "id": "eLRMLth-xTbF",
        "outputId": "cc54d89f-ffe6-4de2-a8ac-a26017a2fdf0"
      },
      "execution_count": 11,
      "outputs": [
        {
          "output_type": "stream",
          "name": "stdout",
          "text": [
            "Test Seti Boyutu :  (10000, 28, 28) (10000,)\n"
          ]
        }
      ]
    },
    {
      "cell_type": "code",
      "source": [
        "num_labels = len(np.unique(y_train))"
      ],
      "metadata": {
        "id": "ZRG3R2QjzEvX"
      },
      "execution_count": 12,
      "outputs": []
    },
    {
      "cell_type": "code",
      "source": [
        "# Veri Setinden Örnekler Gösterilmesi\n",
        "\n",
        "plt.figure(figsize = (5,5))\n",
        "plt.imshow(x_train[1], cmap = 'gray')"
      ],
      "metadata": {
        "colab": {
          "base_uri": "https://localhost:8080/",
          "height": 337
        },
        "id": "tNbJBUpuzEx1",
        "outputId": "443783a9-65f9-4962-826f-483fb2e431e8"
      },
      "execution_count": 13,
      "outputs": [
        {
          "output_type": "execute_result",
          "data": {
            "text/plain": [
              "<matplotlib.image.AxesImage at 0x7f23581ad990>"
            ]
          },
          "metadata": {},
          "execution_count": 13
        },
        {
          "output_type": "display_data",
          "data": {
            "text/plain": [
              "<Figure size 360x360 with 1 Axes>"
            ],
            "image/png": "[encoded data removed]"
          },
          "metadata": {
            "needs_background": "light"
          }
        }
      ]
    },
    {
      "cell_type": "code",
      "source": [
        "plt.figure(figsize = (10,10))\n",
        "for n in range(10):\n",
        "  ax = plt.subplot(5,5,n+1)\n",
        "  plt.imshow(x_train[n], cmap = 'gray')\n",
        "  plt.axis('off')"
      ],
      "metadata": {
        "colab": {
          "base_uri": "https://localhost:8080/",
          "height": 237
        },
        "id": "kvf6E2XuzE1O",
        "outputId": "8cf9ffff-6872-4693-8858-faa69dcda83d"
      },
      "execution_count": 14,
      "outputs": [
        {
          "output_type": "display_data",
          "data": {
            "text/plain": [
              "<Figure size 720x720 with 10 Axes>"
            ],
            "image/png": "[encoded data removed]"
          },
          "metadata": {
            "needs_background": "light"
          }
        }
      ]
    },
    {
      "cell_type": "code",
      "source": [
        "def visualize_img(data):\n",
        "  plt.figure(figsize = (10,10))\n",
        "  for n in range(10):\n",
        "    ax = plt.subplot(5,5,n+1)\n",
        "    plt.imshow(x_train[n], cmap = 'gray')\n",
        "    plt.axis('off')"
      ],
      "metadata": {
        "id": "u0yUpZOzxTdp"
      },
      "execution_count": 15,
      "outputs": []
    },
    {
      "cell_type": "code",
      "source": [
        "visualize_img(x_train)"
      ],
      "metadata": {
        "colab": {
          "base_uri": "https://localhost:8080/",
          "height": 237
        },
        "id": "i13XEQeO04gY",
        "outputId": "76457692-f1ff-48a8-ec04-a0cc2cd1f5ea"
      },
      "execution_count": 16,
      "outputs": [
        {
          "output_type": "display_data",
          "data": {
            "text/plain": [
              "<Figure size 720x720 with 10 Axes>"
            ],
            "image/png": "[encoded data removed]"
          },
          "metadata": {
            "needs_background": "light"
          }
        }
      ]
    },
    {
      "cell_type": "code",
      "source": [
        "# RGB (0-255 arasında değerler alır. Bütün renkler bu 3 renkle ifade edilir.)\n",
        "# r=250 g=10 b=240 mor rengini verir. Uluslararası arenada böyle kabul edilmiştir.\n",
        "# Bütün değerler 0 olursa siyah 255 olursa beyaz rengi ifade eder.\n",
        "\n"
      ],
      "metadata": {
        "id": "mMgBEAUi04jD"
      },
      "execution_count": 17,
      "outputs": []
    },
    {
      "cell_type": "code",
      "source": [
        "x_train[2] # Çıkan numpy veri dizisindeki matris formattaki değerler rgb değerlerdir"
      ],
      "metadata": {
        "colab": {
          "base_uri": "https://localhost:8080/"
        },
        "id": "fb_uJ7en04lq",
        "outputId": "b372f632-cd1f-44d4-db53-018424b8d95d"
      },
      "execution_count": 17,
      "outputs": [
        {
          "output_type": "execute_result",
          "data": {
            "text/plain": [
              "array([[  0,   0,   0,   0,   0,   0,   0,   0,   0,   0,   0,   0,   0,\n",
              "          0,   0,   0,   0,   0,   0,   0,   0,   0,   0,   0,   0,   0,\n",
              "          0,   0],\n",
              "       [  0,   0,   0,   0,   0,   0,   0,   0,   0,   0,   0,   0,   0,\n",
              "          0,   0,   0,   0,   0,   0,   0,   0,   0,   0,   0,   0,   0,\n",
              "          0,   0],\n",
              "       [  0,   0,   0,   0,   0,   0,   0,   0,   0,   0,   0,   0,   0,\n",
              "          0,   0,   0,   0,   0,   0,   0,   0,   0,   0,   0,   0,   0,\n",
              "          0,   0],\n",
              "       [  0,   0,   0,   0,   0,   0,   0,   0,   0,   0,   0,   0,   0,\n",
              "          0,   0,   0,   0,   0,   0,   0,   0,   0,   0,   0,   0,   0,\n",
              "          0,   0],\n",
              "       [  0,   0,   0,   0,   0,   0,   0,   0,   0,   0,   0,   0,   0,\n",
              "          0,   0,   0,   0,   0,   0,   0,   0,   0,   0,   0,   0,   0,\n",
              "          0,   0],\n",
              "       [  0,   0,   0,   0,   0,   0,   0,   0,   0,   0,   0,   0,   0,\n",
              "          0,   0,   0,   0,   0,   0,   0,  67, 232,  39,   0,   0,   0,\n",
              "          0,   0],\n",
              "       [  0,   0,   0,   0,  62,  81,   0,   0,   0,   0,   0,   0,   0,\n",
              "          0,   0,   0,   0,   0,   0,   0, 120, 180,  39,   0,   0,   0,\n",
              "          0,   0],\n",
              "       [  0,   0,   0,   0, 126, 163,   0,   0,   0,   0,   0,   0,   0,\n",
              "          0,   0,   0,   0,   0,   0,   2, 153, 210,  40,   0,   0,   0,\n",
              "          0,   0],\n",
              "       [  0,   0,   0,   0, 220, 163,   0,   0,   0,   0,   0,   0,   0,\n",
              "          0,   0,   0,   0,   0,   0,  27, 254, 162,   0,   0,   0,   0,\n",
              "          0,   0],\n",
              "       [  0,   0,   0,   0, 222, 163,   0,   0,   0,   0,   0,   0,   0,\n",
              "          0,   0,   0,   0,   0,   0, 183, 254, 125,   0,   0,   0,   0,\n",
              "          0,   0],\n",
              "       [  0,   0,   0,  46, 245, 163,   0,   0,   0,   0,   0,   0,   0,\n",
              "          0,   0,   0,   0,   0,   0, 198, 254,  56,   0,   0,   0,   0,\n",
              "          0,   0],\n",
              "       [  0,   0,   0, 120, 254, 163,   0,   0,   0,   0,   0,   0,   0,\n",
              "          0,   0,   0,   0,   0,  23, 231, 254,  29,   0,   0,   0,   0,\n",
              "          0,   0],\n",
              "       [  0,   0,   0, 159, 254, 120,   0,   0,   0,   0,   0,   0,   0,\n",
              "          0,   0,   0,   0,   0, 163, 254, 216,  16,   0,   0,   0,   0,\n",
              "          0,   0],\n",
              "       [  0,   0,   0, 159, 254,  67,   0,   0,   0,   0,   0,   0,   0,\n",
              "          0,   0,  14,  86, 178, 248, 254,  91,   0,   0,   0,   0,   0,\n",
              "          0,   0],\n",
              "       [  0,   0,   0, 159, 254,  85,   0,   0,   0,  47,  49, 116, 144,\n",
              "        150, 241, 243, 234, 179, 241, 252,  40,   0,   0,   0,   0,   0,\n",
              "          0,   0],\n",
              "       [  0,   0,   0, 150, 253, 237, 207, 207, 207, 253, 254, 250, 240,\n",
              "        198, 143,  91,  28,   5, 233, 250,   0,   0,   0,   0,   0,   0,\n",
              "          0,   0],\n",
              "       [  0,   0,   0,   0, 119, 177, 177, 177, 177, 177,  98,  56,   0,\n",
              "          0,   0,   0,   0, 102, 254, 220,   0,   0,   0,   0,   0,   0,\n",
              "          0,   0],\n",
              "       [  0,   0,   0,   0,   0,   0,   0,   0,   0,   0,   0,   0,   0,\n",
              "          0,   0,   0,   0, 169, 254, 137,   0,   0,   0,   0,   0,   0,\n",
              "          0,   0],\n",
              "       [  0,   0,   0,   0,   0,   0,   0,   0,   0,   0,   0,   0,   0,\n",
              "          0,   0,   0,   0, 169, 254,  57,   0,   0,   0,   0,   0,   0,\n",
              "          0,   0],\n",
              "       [  0,   0,   0,   0,   0,   0,   0,   0,   0,   0,   0,   0,   0,\n",
              "          0,   0,   0,   0, 169, 254,  57,   0,   0,   0,   0,   0,   0,\n",
              "          0,   0],\n",
              "       [  0,   0,   0,   0,   0,   0,   0,   0,   0,   0,   0,   0,   0,\n",
              "          0,   0,   0,   0, 169, 255,  94,   0,   0,   0,   0,   0,   0,\n",
              "          0,   0],\n",
              "       [  0,   0,   0,   0,   0,   0,   0,   0,   0,   0,   0,   0,   0,\n",
              "          0,   0,   0,   0, 169, 254,  96,   0,   0,   0,   0,   0,   0,\n",
              "          0,   0],\n",
              "       [  0,   0,   0,   0,   0,   0,   0,   0,   0,   0,   0,   0,   0,\n",
              "          0,   0,   0,   0, 169, 254, 153,   0,   0,   0,   0,   0,   0,\n",
              "          0,   0],\n",
              "       [  0,   0,   0,   0,   0,   0,   0,   0,   0,   0,   0,   0,   0,\n",
              "          0,   0,   0,   0, 169, 255, 153,   0,   0,   0,   0,   0,   0,\n",
              "          0,   0],\n",
              "       [  0,   0,   0,   0,   0,   0,   0,   0,   0,   0,   0,   0,   0,\n",
              "          0,   0,   0,   0,  96, 254, 153,   0,   0,   0,   0,   0,   0,\n",
              "          0,   0],\n",
              "       [  0,   0,   0,   0,   0,   0,   0,   0,   0,   0,   0,   0,   0,\n",
              "          0,   0,   0,   0,   0,   0,   0,   0,   0,   0,   0,   0,   0,\n",
              "          0,   0],\n",
              "       [  0,   0,   0,   0,   0,   0,   0,   0,   0,   0,   0,   0,   0,\n",
              "          0,   0,   0,   0,   0,   0,   0,   0,   0,   0,   0,   0,   0,\n",
              "          0,   0],\n",
              "       [  0,   0,   0,   0,   0,   0,   0,   0,   0,   0,   0,   0,   0,\n",
              "          0,   0,   0,   0,   0,   0,   0,   0,   0,   0,   0,   0,   0,\n",
              "          0,   0]], dtype=uint8)"
            ]
          },
          "metadata": {},
          "execution_count": 17
        }
      ]
    },
    {
      "cell_type": "code",
      "source": [
        "x_train[2].shape"
      ],
      "metadata": {
        "colab": {
          "base_uri": "https://localhost:8080/"
        },
        "id": "De7CO_Qx04oX",
        "outputId": "68959ce8-2d30-4e56-b833-9ecd723d3db4"
      },
      "execution_count": 18,
      "outputs": [
        {
          "output_type": "execute_result",
          "data": {
            "text/plain": [
              "(28, 28)"
            ]
          },
          "metadata": {},
          "execution_count": 18
        }
      ]
    },
    {
      "cell_type": "code",
      "source": [
        "plt.imshow(x_train[2], cmap = 'gray')"
      ],
      "metadata": {
        "colab": {
          "base_uri": "https://localhost:8080/",
          "height": 282
        },
        "id": "fTxAiD8G4gQY",
        "outputId": "508db0ef-bbc6-437f-d2ea-901b95ea107c"
      },
      "execution_count": 19,
      "outputs": [
        {
          "output_type": "execute_result",
          "data": {
            "text/plain": [
              "<matplotlib.image.AxesImage at 0x7f23576fc290>"
            ]
          },
          "metadata": {},
          "execution_count": 19
        },
        {
          "output_type": "display_data",
          "data": {
            "text/plain": [
              "<Figure size 432x288 with 1 Axes>"
            ],
            "image/png": "[encoded data removed]"
          },
          "metadata": {
            "needs_background": "light"
          }
        }
      ]
    },
    {
      "cell_type": "code",
      "source": [
        "x_train[2][14,10]  # verideki belirttiğimiz değerdeki piksellere giderek rgb ort. değerini veriyor."
      ],
      "metadata": {
        "colab": {
          "base_uri": "https://localhost:8080/"
        },
        "id": "50TS5dTr4gS1",
        "outputId": "7a83247c-8b4a-4c92-c352-e7c5eb06e7c0"
      },
      "execution_count": 20,
      "outputs": [
        {
          "output_type": "execute_result",
          "data": {
            "text/plain": [
              "49"
            ]
          },
          "metadata": {},
          "execution_count": 20
        }
      ]
    },
    {
      "cell_type": "code",
      "source": [
        "x_train[2].mean()"
      ],
      "metadata": {
        "colab": {
          "base_uri": "https://localhost:8080/"
        },
        "id": "SnLWzFqk4gVp",
        "outputId": "098950c3-a107-440e-d91d-34e1e1a0364a"
      },
      "execution_count": 21,
      "outputs": [
        {
          "output_type": "execute_result",
          "data": {
            "text/plain": [
              "24.799744897959183"
            ]
          },
          "metadata": {},
          "execution_count": 21
        }
      ]
    },
    {
      "cell_type": "code",
      "source": [
        "x_train[2][14:20, 10:20].mean()  # Resimin belli bölgesini ele alabiliyoruz ve orası üzerinde işlemler yapabiliyoruz"
      ],
      "metadata": {
        "colab": {
          "base_uri": "https://localhost:8080/"
        },
        "id": "2KtSuWyq5i3w",
        "outputId": "e81c546b-e84e-4d92-9a9e-33a07695b928"
      },
      "execution_count": 22,
      "outputs": [
        {
          "output_type": "execute_result",
          "data": {
            "text/plain": [
              "96.51666666666667"
            ]
          },
          "metadata": {},
          "execution_count": 22
        }
      ]
    },
    {
      "cell_type": "code",
      "source": [
        "def pixel_visualize(img):\n",
        "  fig = plt.figure(figsize=(10,10))\n",
        "  ax = fig.add_subplot(111)\n",
        "  ax.imshow(img, cmap = 'gray')\n",
        "  width, height = img.shape\n",
        "\n",
        "  threshold = img.max() / 2.5\n",
        "\n",
        "  for x in range(width):\n",
        "    for y in range(height):\n",
        "\n",
        "      ax.annotate(str(round(img[x][y], 2)), xy = (y,x),\n",
        "                  color = 'white' if img[x][y] < threshold else 'black')"
      ],
      "metadata": {
        "id": "xv2MuzYd5i6W"
      },
      "execution_count": 23,
      "outputs": []
    },
    {
      "cell_type": "code",
      "source": [
        "pixel_visualize(x_train[2])"
      ],
      "metadata": {
        "colab": {
          "base_uri": "https://localhost:8080/",
          "height": 592
        },
        "id": "tH8fw_LN7T5o",
        "outputId": "dd299970-6370-4d28-d7c2-c33bde7a167e"
      },
      "execution_count": 24,
      "outputs": [
        {
          "output_type": "display_data",
          "data": {
            "text/plain": [
              "<Figure size 720x720 with 1 Axes>"
            ],
            "image/png": "[encoded data removed]"
          },
          "metadata": {
            "needs_background": "light"
          }
        }
      ]
    },
    {
      "cell_type": "markdown",
      "source": [
        "# 3) Veriyi Hazırlamak (Data Preparation)"
      ],
      "metadata": {
        "id": "gmlZWC_37ok_"
      }
    },
    {
      "cell_type": "markdown",
      "source": [
        "# Encoding\n",
        "\n",
        "\n",
        "* Önce : [0,1,2,3,4,5,6,7,8,9]\n",
        "* Sonra: [0,0,1,0,0,0,0,0,0,0]\n",
        "\n"
      ],
      "metadata": {
        "id": "6XQKUEip72GH"
      }
    },
    {
      "cell_type": "code",
      "source": [
        "y_train[0:5]"
      ],
      "metadata": {
        "colab": {
          "base_uri": "https://localhost:8080/"
        },
        "id": "drxlDrbW8FG2",
        "outputId": "345647cb-5153-4a0e-c17c-469b5f7436c8"
      },
      "execution_count": 25,
      "outputs": [
        {
          "output_type": "execute_result",
          "data": {
            "text/plain": [
              "array([5, 0, 4, 1, 9], dtype=uint8)"
            ]
          },
          "metadata": {},
          "execution_count": 25
        }
      ]
    },
    {
      "cell_type": "code",
      "source": [
        "y_train = to_categorical(y_train)\n",
        "y_test = to_categorical(y_test)"
      ],
      "metadata": {
        "id": "JyQX8Enp8Mee"
      },
      "execution_count": 26,
      "outputs": []
    },
    {
      "cell_type": "code",
      "source": [
        "y_train[0:5]   # y_train deki sayısal değerleri encoding tarzda ifade ediyor.Hangi sayı ise o kısım 1 değerini alıyor."
      ],
      "metadata": {
        "colab": {
          "base_uri": "https://localhost:8080/"
        },
        "id": "QupYmZ6b8Xym",
        "outputId": "3df2ef9c-ba5b-49b0-d2dc-80b783dc8cb8"
      },
      "execution_count": 27,
      "outputs": [
        {
          "output_type": "execute_result",
          "data": {
            "text/plain": [
              "array([[0., 0., 0., 0., 0., 1., 0., 0., 0., 0.],\n",
              "       [1., 0., 0., 0., 0., 0., 0., 0., 0., 0.],\n",
              "       [0., 0., 0., 0., 1., 0., 0., 0., 0., 0.],\n",
              "       [0., 1., 0., 0., 0., 0., 0., 0., 0., 0.],\n",
              "       [0., 0., 0., 0., 0., 0., 0., 0., 0., 1.]], dtype=float32)"
            ]
          },
          "metadata": {},
          "execution_count": 27
        }
      ]
    },
    {
      "cell_type": "markdown",
      "source": [
        "# Reshaping"
      ],
      "metadata": {
        "id": "kjE7X7QW8ps3"
      }
    },
    {
      "cell_type": "code",
      "source": [
        "image_size = x_train.shape[1]"
      ],
      "metadata": {
        "id": "_8oliOm48tCG"
      },
      "execution_count": 30,
      "outputs": []
    },
    {
      "cell_type": "code",
      "source": [
        "image_size"
      ],
      "metadata": {
        "colab": {
          "base_uri": "https://localhost:8080/"
        },
        "id": "zONKDPxt-ow3",
        "outputId": "28c280ce-9684-49cb-b37d-d2d7a57adb33"
      },
      "execution_count": 32,
      "outputs": [
        {
          "output_type": "execute_result",
          "data": {
            "text/plain": [
              "28"
            ]
          },
          "metadata": {},
          "execution_count": 32
        }
      ]
    },
    {
      "cell_type": "code",
      "source": [
        "x_train = x_train.reshape(x_train.shape[0], 28, 28,1)  # 1 burada demek oluyor ki görsellerdeki piksellerin değerlerini de getir demek\n",
        "x_test = x_test.reshape(x_test.shape[0], 28, 28, 1)\n",
        "\n",
        "print(f\"x_train boyutu : {x_train.shape}\")\n",
        "print(f\"x_test boyutu : {x_test.shape}\")"
      ],
      "metadata": {
        "colab": {
          "base_uri": "https://localhost:8080/"
        },
        "id": "O6OO-iCj-o6N",
        "outputId": "42107680-2ba6-43b5-a904-2293c50a93c4"
      },
      "execution_count": 28,
      "outputs": [
        {
          "output_type": "stream",
          "name": "stdout",
          "text": [
            "x_train boyutu : (60000, 28, 28, 1)\n",
            "x_test boyutu : (10000, 28, 28, 1)\n"
          ]
        }
      ]
    },
    {
      "cell_type": "markdown",
      "source": [
        "# Standardization"
      ],
      "metadata": {
        "id": "FCfZE130_y_3"
      }
    },
    {
      "cell_type": "code",
      "source": [
        "# Piksellerdeki değerleri 0-1 arasına çevirerek eğitim sürecini daha hızlı ve öğrenme sürecini dahah doğru hale getiriyoruz.\n",
        "\n",
        "x_train = x_train.astype('float32') / 255\n",
        "x_test = x_test.astype('float32') / 255\n"
      ],
      "metadata": {
        "id": "aI_jN7EBAE9d"
      },
      "execution_count": 29,
      "outputs": []
    },
    {
      "cell_type": "markdown",
      "source": [
        "# Modelleme ( Modeling)\n",
        "\n",
        "Sinir Ağı Mimarisini Tanımlamak"
      ],
      "metadata": {
        "id": "1OSLfvb880EX"
      }
    },
    {
      "cell_type": "code",
      "source": [
        "model = tf.keras.Sequential([\n",
        "    Flatten(input_shape = (28, 28, 1)),                     # inputun şekillendiği yapay sinir ağının anlayabileceği hale dönüştüğü yerdir\n",
        "    Dense(units=128, activation = 'relu', name = 'layer1'), # Gizli katmanımızdır. 128 nöron vardır. \n",
        "    Dense(units=num_labels, activation = 'softmax', name='output_layer')])  # çıktı katmanımızdır. Çok sınıflı bir Sınıflandırma olduğu için softmax kullanılmıtır.\n",
        "\n",
        "model.compile(loss = 'categorical_crossentropy',            # çok sınıflı sınıflandırma olduğu için 'categorical_crossentropy' kullandık.\n",
        "              optimizer = 'adam',                           # loss fonksiyonunu minimize edecek optimizasyon yöntemidir.farklı algoritmalar da vardır.\n",
        "              metrics = [tf.keras.metrics.Precision(), tf.keras.metrics.Recall(), \"accuracy\"])  # hata metriklerine bakarak gidiş yönümüzü belirleyeceğiz. 'accuracy' matriğidir.\n"
      ],
      "metadata": {
        "id": "1x2Hy4NE82G_"
      },
      "execution_count": 31,
      "outputs": []
    },
    {
      "cell_type": "code",
      "source": [
        "model.summary()"
      ],
      "metadata": {
        "colab": {
          "base_uri": "https://localhost:8080/"
        },
        "id": "AKz0igyXgf0l",
        "outputId": "54aa2fa8-511e-4ddc-89dc-f5b01d53b9be"
      },
      "execution_count": 32,
      "outputs": [
        {
          "output_type": "stream",
          "name": "stdout",
          "text": [
            "Model: \"sequential_1\"\n",
            "_________________________________________________________________\n",
            " Layer (type)                Output Shape              Param #   \n",
            "=================================================================\n",
            " flatten_2 (Flatten)         (None, 784)               0         \n",
            "                                                                 \n",
            " layer1 (Dense)              (None, 128)               100480    \n",
            "                                                                 \n",
            " output_layer (Dense)        (None, 10)                1290      \n",
            "                                                                 \n",
            "=================================================================\n",
            "Total params: 101,770\n",
            "Trainable params: 101,770\n",
            "Non-trainable params: 0\n",
            "_________________________________________________________________\n"
          ]
        }
      ]
    },
    {
      "cell_type": "code",
      "source": [
        "model.fit(x_train, y_train, epochs=10, batch_size=128, validation_data=(x_test, y_test))  # epochs=5 sayısı ile 5 tur at diyoruz. "
      ],
      "metadata": {
        "colab": {
          "base_uri": "https://localhost:8080/"
        },
        "id": "oiq6YZj7gf6L",
        "outputId": "d203ffc8-6640-4c23-fa17-a8f4ee826278"
      },
      "execution_count": 34,
      "outputs": [
        {
          "output_type": "stream",
          "name": "stdout",
          "text": [
            "Epoch 1/10\n",
            "469/469 [==============================] - 4s 9ms/step - loss: 0.0635 - precision: 0.9848 - recall: 0.9789 - accuracy: 0.9816 - val_loss: 0.0847 - val_precision: 0.9788 - val_recall: 0.9709 - val_accuracy: 0.9754\n",
            "Epoch 2/10\n",
            "469/469 [==============================] - 3s 5ms/step - loss: 0.0525 - precision: 0.9874 - recall: 0.9823 - accuracy: 0.9847 - val_loss: 0.0791 - val_precision: 0.9786 - val_recall: 0.9730 - val_accuracy: 0.9747\n",
            "Epoch 3/10\n",
            "469/469 [==============================] - 3s 5ms/step - loss: 0.0450 - precision: 0.9893 - recall: 0.9850 - accuracy: 0.9869 - val_loss: 0.0776 - val_precision: 0.9792 - val_recall: 0.9736 - val_accuracy: 0.9765\n",
            "Epoch 4/10\n",
            "469/469 [==============================] - 3s 5ms/step - loss: 0.0378 - precision: 0.9909 - recall: 0.9874 - accuracy: 0.9891 - val_loss: 0.0766 - val_precision: 0.9797 - val_recall: 0.9739 - val_accuracy: 0.9768\n",
            "Epoch 5/10\n",
            "469/469 [==============================] - 3s 6ms/step - loss: 0.0320 - precision: 0.9924 - recall: 0.9895 - accuracy: 0.9910 - val_loss: 0.0736 - val_precision: 0.9793 - val_recall: 0.9747 - val_accuracy: 0.9769\n",
            "Epoch 6/10\n",
            "469/469 [==============================] - 3s 5ms/step - loss: 0.0277 - precision: 0.9937 - recall: 0.9913 - accuracy: 0.9925 - val_loss: 0.0794 - val_precision: 0.9790 - val_recall: 0.9747 - val_accuracy: 0.9760\n",
            "Epoch 7/10\n",
            "469/469 [==============================] - 3s 5ms/step - loss: 0.0236 - precision: 0.9948 - recall: 0.9930 - accuracy: 0.9940 - val_loss: 0.0817 - val_precision: 0.9779 - val_recall: 0.9734 - val_accuracy: 0.9744\n",
            "Epoch 8/10\n",
            "469/469 [==============================] - 3s 6ms/step - loss: 0.0201 - precision: 0.9959 - recall: 0.9945 - accuracy: 0.9952 - val_loss: 0.0723 - val_precision: 0.9802 - val_recall: 0.9773 - val_accuracy: 0.9788\n",
            "Epoch 9/10\n",
            "469/469 [==============================] - 3s 5ms/step - loss: 0.0172 - precision: 0.9967 - recall: 0.9954 - accuracy: 0.9959 - val_loss: 0.0770 - val_precision: 0.9788 - val_recall: 0.9753 - val_accuracy: 0.9763\n",
            "Epoch 10/10\n",
            "469/469 [==============================] - 3s 5ms/step - loss: 0.0150 - precision: 0.9970 - recall: 0.9960 - accuracy: 0.9966 - val_loss: 0.0750 - val_precision: 0.9798 - val_recall: 0.9768 - val_accuracy: 0.9783\n"
          ]
        },
        {
          "output_type": "execute_result",
          "data": {
            "text/plain": [
              "<keras.callbacks.History at 0x7f234f08aa10>"
            ]
          },
          "metadata": {},
          "execution_count": 34
        }
      ]
    },
    {
      "cell_type": "markdown",
      "source": [
        "# Model Başarısını Değerlendirme (Evaluation)"
      ],
      "metadata": {
        "id": "_sJdP5CnoMLy"
      }
    },
    {
      "cell_type": "code",
      "source": [
        "history = model.fit(x_train, y_train, epochs=10, batch_size=128, validation_data=(x_test, y_test))"
      ],
      "metadata": {
        "colab": {
          "base_uri": "https://localhost:8080/"
        },
        "id": "RnU19a40gf9D",
        "outputId": "ba0e429b-3980-42e7-f5a8-64a7b7ba4f14"
      },
      "execution_count": 35,
      "outputs": [
        {
          "output_type": "stream",
          "name": "stdout",
          "text": [
            "Epoch 1/10\n",
            "469/469 [==============================] - 3s 6ms/step - loss: 0.0127 - precision: 0.9975 - recall: 0.9969 - accuracy: 0.9972 - val_loss: 0.0796 - val_precision: 0.9800 - val_recall: 0.9772 - val_accuracy: 0.9782\n",
            "Epoch 2/10\n",
            "469/469 [==============================] - 2s 5ms/step - loss: 0.0112 - precision: 0.9977 - recall: 0.9970 - accuracy: 0.9974 - val_loss: 0.0787 - val_precision: 0.9791 - val_recall: 0.9771 - val_accuracy: 0.9779\n",
            "Epoch 3/10\n",
            "469/469 [==============================] - 2s 5ms/step - loss: 0.0087 - precision: 0.9986 - recall: 0.9982 - accuracy: 0.9984 - val_loss: 0.0801 - val_precision: 0.9803 - val_recall: 0.9773 - val_accuracy: 0.9785\n",
            "Epoch 4/10\n",
            "469/469 [==============================] - 2s 5ms/step - loss: 0.0083 - precision: 0.9988 - recall: 0.9983 - accuracy: 0.9985 - val_loss: 0.0847 - val_precision: 0.9794 - val_recall: 0.9776 - val_accuracy: 0.9778\n",
            "Epoch 5/10\n",
            "469/469 [==============================] - 2s 5ms/step - loss: 0.0068 - precision: 0.9988 - recall: 0.9987 - accuracy: 0.9988 - val_loss: 0.0917 - val_precision: 0.9766 - val_recall: 0.9749 - val_accuracy: 0.9750\n",
            "Epoch 6/10\n",
            "469/469 [==============================] - 2s 5ms/step - loss: 0.0081 - precision: 0.9985 - recall: 0.9982 - accuracy: 0.9983 - val_loss: 0.0797 - val_precision: 0.9794 - val_recall: 0.9776 - val_accuracy: 0.9783\n",
            "Epoch 7/10\n",
            "469/469 [==============================] - 3s 6ms/step - loss: 0.0044 - precision: 0.9995 - recall: 0.9995 - accuracy: 0.9995 - val_loss: 0.0848 - val_precision: 0.9798 - val_recall: 0.9782 - val_accuracy: 0.9785\n",
            "Epoch 8/10\n",
            "469/469 [==============================] - 3s 6ms/step - loss: 0.0035 - precision: 0.9997 - recall: 0.9996 - accuracy: 0.9997 - val_loss: 0.0853 - val_precision: 0.9804 - val_recall: 0.9781 - val_accuracy: 0.9789\n",
            "Epoch 9/10\n",
            "469/469 [==============================] - 4s 9ms/step - loss: 0.0065 - precision: 0.9985 - recall: 0.9983 - accuracy: 0.9984 - val_loss: 0.1106 - val_precision: 0.9758 - val_recall: 0.9738 - val_accuracy: 0.9747\n",
            "Epoch 10/10\n",
            "469/469 [==============================] - 4s 8ms/step - loss: 0.0047 - precision: 0.9992 - recall: 0.9991 - accuracy: 0.9991 - val_loss: 0.0860 - val_precision: 0.9796 - val_recall: 0.9783 - val_accuracy: 0.9787\n"
          ]
        }
      ]
    },
    {
      "cell_type": "code",
      "source": [
        "################################\n",
        "# Accuracy ve Loss Grafikleri\n",
        "###############################\n",
        "\n",
        "#------------------------ Grafik_1 Accuracay------------------------------\n",
        "\n",
        "plt.figure(figsize=(20, 5))\n",
        "plt.subplot(1, 2, 1)\n",
        "plt.plot(history.history['accuracy'], color='b', label='Training Accuracy')\n",
        "plt.plot(history.history['val_accuracy'], color='r', label='Validation Accuracy')\n",
        "plt.legend(loc='lower right')\n",
        "plt.xlabel('Epoch', fontsize=16)\n",
        "plt.ylabel('Accuracy', fontsize=16)\n",
        "plt.ylim([min(plt.ylim()), 1])\n",
        "plt.title('Eğitim ve Test Başarım Grafiği', fontsize=16)\n",
        "\n",
        "\n",
        "#------------------------ Grafik_2 Loss----------------------------------\n",
        "\n",
        "plt.subplot(1, 2, 2)\n",
        "plt.plot(history.history['loss'], color='b', label='Training Loss')\n",
        "plt.plot(history.history['val_loss'], color='r', label='Validation Loss')\n",
        "plt.legend(loc='upper right')\n",
        "plt.xlabel('Epoch', fontsize=16)\n",
        "plt.ylabel('Accuracy', fontsize=16)\n",
        "plt.ylim([0, max(plt.ylim())])\n",
        "plt.title('Eğitim ve Test Kayıp Grafiği', fontsize=16)\n",
        "plt.show()"
      ],
      "metadata": {
        "colab": {
          "base_uri": "https://localhost:8080/",
          "height": 358
        },
        "id": "_o0w8rnFgf_5",
        "outputId": "3c266bbc-f086-404c-8fe9-e8ba3faa900f"
      },
      "execution_count": 36,
      "outputs": [
        {
          "output_type": "display_data",
          "data": {
            "text/plain": [
              "<Figure size 1440x360 with 2 Axes>"
            ],
            "image/png": "[encoded data removed]"
          },
          "metadata": {
            "needs_background": "light"
          }
        }
      ]
    },
    {
      "cell_type": "code",
      "source": [
        "loss, precision, recall, acc = model.evaluate(x_test, y_test, verbose = False)\n",
        "print(\"\\n Test Accuracy : %.1f%% \" % (100.0 * acc ))\n",
        "print(\"\\n Test Loss : %.1f%% \" % (100.0 * loss ))\n",
        "print(\"\\n Test Precision : %.1f%% \" % (100.0 * precision ))\n",
        "print(\"\\n Test Recall : %.1f%% \" % (100.0 * recall ))"
      ],
      "metadata": {
        "colab": {
          "base_uri": "https://localhost:8080/"
        },
        "id": "ZLKT_D7AggDV",
        "outputId": "a76a7590-18ae-4d79-b7f0-ac8c51d83e7e"
      },
      "execution_count": 40,
      "outputs": [
        {
          "output_type": "stream",
          "name": "stdout",
          "text": [
            "\n",
            " Test Accuracy : 97.9% \n",
            "\n",
            " Test Loss : 8.6% \n",
            "\n",
            " Test Precision : 98.0% \n",
            "\n",
            " Test Recall : 97.8% \n"
          ]
        }
      ]
    }
  ]
}